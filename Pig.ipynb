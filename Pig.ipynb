{
 "cells": [
  {
   "cell_type": "markdown",
   "metadata": {},
   "source": [
    "# Ejercicio de pig"
   ]
  },
  {
   "cell_type": "code",
   "execution_count": 1,
   "metadata": {},
   "outputs": [
    {
     "name": "stdout",
     "output_type": "stream",
     "text": [
      "\n"
     ]
    }
   ],
   "source": [
    "%run pigmagic.py"
   ]
  },
  {
   "cell_type": "markdown",
   "metadata": {},
   "source": [
    "Carpeta en la que estan los archivos"
   ]
  },
  {
   "cell_type": "code",
   "execution_count": 2,
   "metadata": {},
   "outputs": [
    {
     "name": "stdout",
     "output_type": "stream",
     "text": [
      "files/scopus-2000-2013-cp.csv  files/scopus-2015-cp.csv\n",
      "files/scopus-2006-2011-ar.csv  files/scopus-2016-ar.csv\n",
      "files/scopus-2012-ar.csv       files/scopus-2016-cp.csv\n",
      "files/scopus-2013-ar.csv       files/scopus-2017-ar.csv\n",
      "files/scopus-2014-ar.csv       files/scopus-2017-cp.csv\n",
      "files/scopus-2014-cp.csv       files/scopus-2018-ar.csv\n",
      "files/scopus-2015-ar.csv       files/scopus-2018-cp.csv\n",
      "\n",
      "rm: cannot remove 'output': No such file or directory\n",
      "\n",
      "total 543056\n",
      "drwxrwxrwx 1 wm wm      4096 Oct  5 18:20  .\n",
      "drwxrwxrwx 1 wm wm      4096 Oct  5 15:07  ..\n",
      "drwxrwxrwx 1 wm wm      4096 Sep 17 00:18  .git\n",
      "-rwxrwxrwx 1 wm wm       100 Sep 16 20:36  .gitignore\n",
      "drwxrwxrwx 1 wm wm      4096 Oct  5 15:14  .ipynb_checkpoints\n",
      "-rwxrwxrwx 1 wm wm     28324 Sep 30 22:35 '01. Notas de clase - Hadoop con Java.ipynb'\n",
      "-rwxrwxrwx 1 wm wm      1082 Sep 16 13:29  LICENSE\n",
      "-rwxrwxrwx 1 wm wm       225 Sep 16 13:29  README.md\n",
      "-rwxrwxrwx 1 wm wm      5981 Sep 30 23:45  Untitled.ipynb\n",
      "-rwxrwxrwx 1 wm wm     15729 Oct  5 18:20  Untitled1.ipynb\n",
      "drwxrwxrwx 1 wm wm      4096 Oct  5 15:25  files\n",
      "-rwxrwxrwx 1 wm wm 334559382 Sep 14 13:40  hadoop-3.1.1.tar.gz\n",
      "drwxrwxrwx 1 wm wm      4096 Sep 30 22:57  input\n",
      "-rwxrwxrwx 1 wm wm 185646832 Sep 14 14:50  jdk-8u181-linux-x64.tar.gz\n",
      "-rwxrwxrwx 1 wm wm       585 Sep 30 23:11  mapper.py\n",
      "-rwxrwxrwx 1 wm wm  11304766 Oct  5 15:54  pig_1538770637841.log\n",
      "-rwxrwxrwx 1 wm wm  10633654 Oct  5 15:54  pig_1538771649138.log\n",
      "-rwxrwxrwx 1 wm wm  13856005 Oct  5 15:54  pig_1538772433904.log\n",
      "-rwxrwxrwx 1 wm wm     15574 Oct  5 17:47  pig_1538772971113.log\n",
      "-rwxrwxrwx 1 wm wm      3747 Oct  5 18:05  pig_1538780711473.log\n",
      "-rwxrwxrwx 1 wm wm      2496 Oct  5 15:55  pigmagic.py\n"
     ]
    }
   ],
   "source": [
    "!ls files/*.csv\n",
    "\n",
    "!echo \n",
    "!rm -r output\n",
    "\n",
    "!echo \n",
    "!ls -la"
   ]
  },
  {
   "cell_type": "code",
   "execution_count": 3,
   "metadata": {
    "scrolled": true
   },
   "outputs": [
    {
     "name": "stdout",
     "output_type": "stream",
     "text": [
      " as (line:chararray);Notas de clase/apache-hive-course-master/files/*csv' \n",
      "temp = limit files 10;\n",
      "dump temp;\n",
      "(Authors,Author Ids,Title,Year,Source title,Volume,Issue,Art. No.,Page start,Page end,Page count,Cited by,DOI,Link,Affiliations,Authors with affiliations,Abstract,Author Keywords,Index Keywords,Document Type,Access Type,Source,EID)\n",
      "(\"Vancea B., Marchis A., Dinsoreanu M., Potolea R.\",\"55975772100;57190179697;24474001700;23390581200;\",\"Contradiction detection between opinions: From a big data perspective\",2013,\"Proceedings - 2013 IEEE 9th International Conference on Intelligent Computer Communication and Processing, ICCP 2013\",,, 6646118,\"259\",\"266\",,,10.1109/ICCP.2013.6646118,\"https://www.scopus.com/inward/record.uri?eid=2-s2.0-84891076779&doi=10.1109%2fICCP.2013.6646118&partnerID=40&md5=66c750dbc77983dd145ff352e1a6aaea\",\"Department of Computer Science, Technical University of Cluj-Napoca, Cluj-Napoca, Romania\",\"Vancea, B., Department of Computer Science, Technical University of Cluj-Napoca, Cluj-Napoca, Romania; Marchis, A., Department of Computer Science, Technical University of Cluj-Napoca, Cluj-Napoca, Romania; Dinsoreanu, M., Department of Computer Science, Technical University of Cluj-Napoca, Cluj-Napoca, Romania; Potolea, R., Department of Computer Science, Technical University of Cluj-Napoca, Cluj-Napoca, Romania\",\"This paper offers a solution to the problem of detecting contradictions among opinions on the same topic. The opinions are extracted from a large number of unstructured documents and stored in a structured format. Due to the increase in data available for analysis, we focus on providing a storage/retrieval and analysis solution suitable for managing large quantities of data while maintaining the speed and reliability present in smaller scale systems. Our approach consists in building a distributed system able to scale horizontally with the increase in input data without any significant performance decay. We represent opinions in a tuple based structured model, more suitable for retrieval and analysis. This approach allows us to formalize an algorithm for detecting contradictions between opinion tuples. Furthermore, we present a method for improving the recall of the system by using synonyms for the opinion target to expand the set of possible contradicting opinions. Our main focus is to optimize the structure of the opinion tuple to provide the best retrieval time and to allow for a simple, structured approach for detecting contradictions. © 2013 IEEE.\",\"big data; contradiction detection; information retrieval; opinion; scalability\",\"Analysis solution; Big datum; Distributed systems; opinion; Performance decay; Storage/retrieval; Structured approach; Unstructured documents; Communication; Information retrieval; Scalability; Reliability analysis\",Conference Paper,,Scopus,2-s2.0-84891076779)\n",
      "(\"Qin X., Zhou X.\",\"25959367100;35087204200;\",\"A survey on benchmarks for big data and some more considerations\",2013,\"Lecture Notes in Computer Science (including subseries Lecture Notes in Artificial Intelligence and Lecture Notes in Bioinformatics)\",\"8206 LNCS\",,,\"619\",\"627\",,3,10.1007/978-3-642-41278-3_75,\"https://www.scopus.com/inward/record.uri?eid=2-s2.0-84890863552&doi=10.1007%2f978-3-642-41278-3_75&partnerID=40&md5=7a84930148fd0b5be3a672e088508b1c\",\"School of Information, Renmin University of China, Beijing, 100872, China; Computer Science Department, Jiangsu Normal University, Xuzhou, Jiangsu, 221116, China\",\"Qin, X., School of Information, Renmin University of China, Beijing, 100872, China; Zhou, X., Computer Science Department, Jiangsu Normal University, Xuzhou, Jiangsu, 221116, China\",\"A big data benchmark suite is needed eagerly by customers, industry and academia recently. A number of prominent works in last several years are reviewed, their characteristics are introduced and shortcomings are analyzed. The authors also provide some suggestions on building the expected benchmark, including: component based benchmarks as well as end-to-end benchmarks should be used together to test distinct tools and test the system as a whole; workloads should be enriched with complex analytics to encompass different application scenarios; metrics other than performance metrics should also be considered. © 2013 Springer-Verlag.\",\"Benchmark; Big Data; Energy Saving; Fault Tolerance; Performance; Scalability; Security\",\"Application scenario; Benchmark suites; Big datum; Component based; Performance; Performance metrics; Security; Energy conservation; Engineering education; Fault tolerance; Scalability; Benchmarking\",Conference Paper,,Scopus,2-s2.0-84890863552)\n",
      "(\"Cheng S., Shi Y., Qin Q., Bai R.\",\"39461086300;7404964007;36172761500;21741757200;\",\"Swarm intelligence in big data analytics\",2013,\"Lecture Notes in Computer Science (including subseries Lecture Notes in Artificial Intelligence and Lecture Notes in Bioinformatics)\",\"8206 LNCS\",,,\"417\",\"426\",,18,10.1007/978-3-642-41278-3_51,\"https://www.scopus.com/inward/record.uri?eid=2-s2.0-84890891734&doi=10.1007%2f978-3-642-41278-3_51&partnerID=40&md5=3759b0b3ebd70751db973fe68f504a5e\",\"Division of Computer Science, University of Nottingham, Ningbo, China; Department of Electrical and Electronic Engineering, Xi'an Jiaotong-Liverpool University, Suzhou, China; College of Management, Shenzhen University, Shenzhen, China\",\"Cheng, S., Division of Computer Science, University of Nottingham, Ningbo, China; Shi, Y., Department of Electrical and Electronic Engineering, Xi'an Jiaotong-Liverpool University, Suzhou, China; Qin, Q., College of Management, Shenzhen University, Shenzhen, China; Bai, R., Division of Computer Science, University of Nottingham, Ningbo, China\",\"This paper analyses the difficulty of big data analytics problems and the potential of swarm intelligence solving big data analytics problems. Nowadays, the big data analytics has attracted more and more attentions, which is required to manage immense amounts of data quickly. However, current researches mainly focus on the amount of data. In this paper, the other three properties of big data analytics, which include the high dimensionality of data, the dynamical change of data, and the multi-objective of problems, are discussed. Swarm intelligence, which works with a population of individuals, is a collection of nature-inspired searching techniques. It has effectively solved many large-scale, dynamical, and multi-objective problems. Based on the combination of swarm intelligence and data mining techniques, we can have better understanding of the big data analytics problems, and designing more effective algorithms to solve real-world big data analytics problems. © 2013 Springer-Verlag.\",,\"Effective algorithms; High dimensionality; Multi objective; Multi-objective problem; Paper analysis; Real-world; Searching techniques; Swarm Intelligence; Engineering education; Artificial intelligence\",Conference Paper,,Scopus,2-s2.0-84890891734)\n",
      "(\"Bu Y., Borkar V., Xu G., Carey M.J.\",\"55161975500;12800602900;55726319300;7202744401;\",\"A bloat-aware design for big data applications\",2013,\"International Symposium on Memory Management, ISMM\",,,,\"119\",\"130\",,28,10.1145/2464157.2466485,\"https://www.scopus.com/inward/record.uri?eid=2-s2.0-84890498888&doi=10.1145%2f2464157.2466485&partnerID=40&md5=628bb1cc67fe161df6cfd82c358d8b92\",\"Department of Computer Science, University of California, Irvine, United States\",\"Bu, Y., Department of Computer Science, University of California, Irvine, United States; Borkar, V., Department of Computer Science, University of California, Irvine, United States; Xu, G., Department of Computer Science, University of California, Irvine, United States; Carey, M.J., Department of Computer Science, University of California, Irvine, United States\",\"Over the past decade, the increasing demands on data-driven business intelligence have led to the proliferation of large-scale, dataintensive applications that often have huge amounts of data (often at terabyte or petabyte scale) to process. An object-oriented programming language such as Java is often the developer's choice for implementing such applications, primarily due to its quick development cycle and rich community resource. While the use of such languages makes programming easier, significant performance problems can often be seen - the combination of the inefficiencies inherent in a managed run-time system and the impact of the huge amount of data to be processed in the limited memory space often leads to memory bloat and performance degradation at a surprisingly early stage. This paper proposes a bloat-aware design paradigm towards the development of efficient and scalable Big Data applications in object-oriented GC enabled languages. To motivate this work, we first perform a study on the impact of several typical memory bloat patterns. These patterns are summarized from the user complaints on the mailing lists of two widely-used open-source Big Data applications. Next, we discuss our design paradigm to eliminate bloat. Using examples and real-world experience, we demonstrate that programming under this paradigm does not incur significant programming burden. We have implemented a few common data processing tasks both using this design and using the conventional object-oriented design. Our experimental results show that this new design paradigm is extremely effective in improving performance - even for the moderate-size data sets processed, we have observed 2.5×+ performance gains, and the improvement grows substantially with the size of the data set. Copyright © 2013 ACM.\",\"Big data applications; Design; Memory bloat\",\"Big data applications; Data-intensive application; Improving performance; Memory bloats; Object-oriented design; Object-oriented programming languages; Performance degradation; Real-world experience; Data processing; Design; Object oriented programming; Java programming language\",Conference Paper,,Scopus,2-s2.0-84890498888)\n",
      "(\"Kezunovic M., Xie L., Grijalva S.\",\"35501128100;36447712900;6602833144;\",\"The role of big data in improving power system operation and protection\",2013,\"Proceedings of IREP Symposium: Bulk Power System Dynamics and Control - IX Optimization, Security and Control of the Emerging Power Grid, IREP 2013\",,, 6629368,\"\",\"\",,68,10.1109/IREP.2013.6629368,\"https://www.scopus.com/inward/record.uri?eid=2-s2.0-84890479248&doi=10.1109%2fIREP.2013.6629368&partnerID=40&md5=e3db66f4728fc9f38ad2dd8365a26ca8\",\"Texas AandM University, United States; Georgia Institute of Technology, United States\",\"Kezunovic, M., Texas AandM University, United States; Xie, L., Texas AandM University, United States; Grijalva, S., Georgia Institute of Technology, United States\",\"This paper focuses on the use of extremely large data sets in power system operation, control, and protection, which are difficult to process with traditional database tools and often termed big data. We will discuss three aspects of using such data sets: feature extraction, systematic integration for power system applications, and examples of typical applications in the utility industry. The following analytics tasks based on big data methodology are elaborated upon: corrective, predictive, distributed and adaptive. The paper also outlines several research topics related to asset management, operation planning, realtime monitoring and fault detection/protection that present new opportunities but require further investigation. © 2013 IEEE.\",,\"Improving power; Operation planning; Power system applications; Power system operations; Real time monitoring; Systematic integration; Typical application; Utility industry; Electric power distribution; Feature extraction; Optimization; System theory\",Conference Paper,,Scopus,2-s2.0-84890479248)\n",
      "(\"Puttini L.C.\",\"24544491700;\",\"IVHM development and the big data paradigm\",2013,\"SAE Technical Papers\",\"7\",,,\"\",\"\",,,10.4271/2013-01-2332,\"https://www.scopus.com/inward/record.uri?eid=2-s2.0-84890379248&doi=10.4271%2f2013-01-2332&partnerID=40&md5=0ef477e4465899b882246f477676255f\",\"Bombardier Aerospace, United States\",\"Puttini, L.C., Bombardier Aerospace, United States\",\"This paper discusses the correlation of IVHM (Integrated Vehicle Health Management) as an emerging aerospace discipline and the Big Data paradigm widely discussed in the Information Technology industry. The 4-V model is discussed to qualify a Big Data problem in terms of the volume, variety, velocity and veracity of the data involved. Big Data management allows, for example, correlations to be found to \"\"spot business trends, determine quality of research, prevent diseases, combat crime, and determine real-time roadway traffic conditions\"\". Examining these two fields side by side is necessary and desirable because innovation is very likely to occur when and where different but correlated domains interface. This paper compares the most significant technical components required for Big Data Analytics and IVHM to work. Most aerospace players have recognized the strategic value of IVHM, but only a few have been able to establish coordinated action plans that allow them to offer advanced services in line with the possibilities envisioned. To help address this fact, the paper will discuss the challenges for IVHM implementation, including how the aircraft design process needs to be modified to incorporate IVHM trade studies complete enough to allow the enterprise to compare development costs to long term savings on operations, maintenance and sustaining efforts. A generic IVHM platform will be described, including examples for the ground analytics components, which are identified as the most value added parts. Copyright © 2013 SAE International.\",,\"Aircraft design process; Business trend; Coordinated actions; Development costs; Information technology industry; Integrated vehicle health managements; Strategic values; Traffic conditions; Exhibitions; Information management; Information technology; Vehicles\",Conference Paper,,Scopus,2-s2.0-84890379248)\n",
      "(\"Ludena D.A., Ahrary A., Horibe N.\",\"55662898000;12784525200;55438221200;\",\"Big data's risks and opportunities for ICT agriculture\",2013,\"Proceedings - 2nd IIAI International Conference on Advanced Applied Informatics, IIAI-AAI 2013\",,, 6630329,\"116\",\"120\",,,10.1109/IIAI-AAI.2013.60,\"https://www.scopus.com/inward/record.uri?eid=2-s2.0-84890081782&doi=10.1109%2fIIAI-AAI.2013.60&partnerID=40&md5=af9d8d6acaf8e3c41e15d44ef3dbf4fe\",\"Department of Computer and Information Sciences, Sojo University, Kumamoto, Japan; Faculty of Computer and Information Sciences, Sojo University, Kumamoto, Japan\",\"Ludena, D.A., Department of Computer and Information Sciences, Sojo University, Kumamoto, Japan; Ahrary, A., Faculty of Computer and Information Sciences, Sojo University, Kumamoto, Japan; Horibe, N., Department of Computer and Information Sciences, Sojo University, Kumamoto, Japan\",\"Big Data is becoming a common term among researchers, who are looking for a tool to broaden their research and to improve their results because the 'probable' relation between different scientific areas. But, although the term Big Data is not new, its recent application and methodologies are changing some well establish paradigms in the research area as well in the several industry applications where Big Data methodologies are used. Because of their rapid development, Big Data is also raising specific issues related to some of its core concepts. It is the aim of this paper to address these issues and to create a common background to be applied in the new NEDO project in which Sojo University is an active research member. © 2013 IEEE.\",\"Big Data; Computer Science; Data Analysis; Data Systems\",\"Big datum; Data systems; Industry applications; Computer science; Data reduction; Industrial applications; Information science; Research\",Conference Paper,,Scopus,2-s2.0-84890081782)\n",
      "(\"Rong Z., Xia D., Zhang Z.\",\"55961650500;55960844800;55558652100;\",\"Complex statistical analysis of big data: Implementation and application of apriori and FP-growth algorithm based on MapReduce\",2013,\"Proceedings of the IEEE International Conference on Software Engineering and Service Sciences, ICSESS\",,, 6615467,\"968\",\"972\",,9,10.1109/ICSESS.2013.6615467,\"https://www.scopus.com/inward/record.uri?eid=2-s2.0-84890036843&doi=10.1109%2fICSESS.2013.6615467&partnerID=40&md5=dfb00a6c70743f6ba60b5e18addb201e\",\"School of Computer and Information Science, Southwest University, Chongqing, China\",\"Rong, Z., School of Computer and Information Science, Southwest University, Chongqing, China; Xia, D., School of Computer and Information Science, Southwest University, Chongqing, China; Zhang, Z., School of Computer and Information Science, Southwest University, Chongqing, China\",\"In the single machine environment, the problems of Apriori and FP-Growth algorithm in large-scale data association rules mining are high memory consumption, low computing performance, poor scalability and reliability and so on. Therefore, we put forward a new implementation method which is based on MapReduce parallel environment for mining frequent itemsets to generate association rules and is verified by using different sizes of real datasets with different nodes in the cluster, meanwhile, selecting 'speedup, scalability and reliability' as an indicator. The results show that our method is feasible and valid and is able to improve the overall performance and efficiency of Apriori and FP-Growth algorithm to meet the needs of large-scale data association rules mining. © 2013 IEEE.\",\"apriori; association analysis; big data statistics; fP-growth; mapreduce\",\"Apriori; Association analysis; Big datum; FP growths; Map-reduce; Algorithms; Data mining; Scalability; Software engineering\",Conference Paper,,Scopus,2-s2.0-84890036843)\n",
      "(\"Lian F., Zou G.T.\",\"55961449600;7102849214;\",\"Primary research on intelligent extension architectural programming based on extension big data mining\",2013,\"Extenics and Innovation Methods -  Proceedings of the International Symposium on Extenics and Innovation Methods\",,,,\"247\",\"251\",,,,\"https://www.scopus.com/inward/record.uri?eid=2-s2.0-84890016307&partnerID=40&md5=24d88e45333eb78b041049f9e2a0519c\",\"School of Architecture, Harbin Institute of Technology, Harbin, China\",\"Lian, F., School of Architecture, Harbin Institute of Technology, Harbin, China; Zou, G.T., School of Architecture, Harbin Institute of Technology, Harbin, China\",\"The world has already stepped into an internet Big Data time when there is an explosive growth on data. This research is intersected by Architectural Programming, Extenics and Artificial Intelligence. This research and study catches systematical research on intelligent theories and methods of Extension Architectural Programming, facing creative problems in Architectural Programming which are qualitative and innovative, on the premise of Big Data science, taking Extension Data Mining method as the technical support. The first significance of the paper is to promote combining and application of Architecture, Extenics and Artificial Intelligence. The second is to promote the development of intelligent creative thinking in Architecture, which can generate new subject growing point of Architecture. The third is to promote important progress of Computer-assisted Extension Architectural Programming theory and methods, which provides theory and method premise for the development of Strategy Generation of Extension Architectural Programming software. © 2013 Taylor & Francis Group.\",,\"Computer assisted; Creative thinking; Explosive growth; Extension data minings; Intelligent extensions; Programming software; Technical support; Theory and methods; Artificial intelligence; Data mining; Innovation; Research\",Conference Paper,,Scopus,2-s2.0-84890016307)\n"
     ]
    }
   ],
   "source": [
    "%%pig\n",
    "files = load '/mnt/e/Notas de clase/apache-hive-course-master/files/*csv' as (line:chararray);\n",
    "temp = limit files 10;\n",
    "dump temp;"
   ]
  },
  {
   "cell_type": "markdown",
   "metadata": {},
   "source": [
    "Quitar las cabeceras de los archivos"
   ]
  },
  {
   "cell_type": "code",
   "execution_count": 4,
   "metadata": {},
   "outputs": [
    {
     "name": "stdout",
     "output_type": "stream",
     "text": [
      ";in_cabeceras = Filter files BY NOT SUBSTRING(line,0,7) MATCHES 'Authors' \n",
      "temp = limit sin_cabeceras 10;\n",
      "dump temp;\n",
      "(\"Cao M., Guo C.\",\"57201340394;7402497201;\",\"Key technologies of big data and its development in intelligent ship\",2017,\"ACM International Conference Proceeding Series\",,,,\"61\",\"65\",,,10.1145/3175603.3175613,\"https://www.scopus.com/inward/record.uri?eid=2-s2.0-85044343308&doi=10.1145%2f3175603.3175613&partnerID=40&md5=e6faf2208f638cfbdd3d5a0e0424b48d\",\"College of Power Engineering, Naval University of Engineering, Wuhan, China\",\"Cao, M., College of Power Engineering, Naval University of Engineering, Wuhan, China; Guo, C., College of Power Engineering, Naval University of Engineering, Wuhan, China\",\"The application of big data techniques will contribute to the transforming and upgrading in shipbuilding industry and produce a profound influence in the development of intelligent ship. An overall framework of shipbuilding big data platform is established in this paper, which is based on the relationships among the intelligent ship, cloud computing and big data. Then key techniques of big data are discussed in four aspects, including data generation, data acquisition, data storage, and data analysis. Finally, an overview of the architecture of big data and relevant techniques are demonstrated. © 2017 Association for Computing Machinery.\",\"Big data; Data acquisition; Data mining; Data storage; Data visualization; Intelligent ship\",\"Artificial intelligence; Data acquisition; Data mining; Data visualization; Digital storage; Metadata; Robotics; Shipbuilding; Ships; Shipyards; Big data platforms; Data generation; Data storage; Key technologies; Shipbuilding industry; Big data\",Conference Paper,,Scopus,2-s2.0-85044343308)\n",
      "(\"Li C., Tian G., Cai K.P.\",\"57192091537;57203023235;57203020483;\",\"Improved K-means based on flink platform and its application in e-commerce big data\",2017,\"Proceedings - 2017 Chinese Automation Congress, CAC 2017\",\"2017-January\",,,\"7261\",\"7264\",,,10.1109/CAC.2017.8244089,\"https://www.scopus.com/inward/record.uri?eid=2-s2.0-85050295397&doi=10.1109%2fCAC.2017.8244089&partnerID=40&md5=0030c70daf1465cf7196d4148f0a70c9\",\"Wuyi University, School of Information Engineering, Jiangmen, 529020, China\",\"Li, C., Wuyi University, School of Information Engineering, Jiangmen, 529020, China; Tian, G., Wuyi University, School of Information Engineering, Jiangmen, 529020, China; Cai, K.P., Wuyi University, School of Information Engineering, Jiangmen, 529020, China\",\"A parallel processing method based on the Flink platform is implemented to meet the requirement of big data processing. Simultaneous improvement of the K-Means algorithm is undergone through adopting kernel density options based on the characteristics of density distribution. This is done to decrease sensitivity of the K-Means algorithm to the K value in data clustering. This improved K-means algorithm based on the Flink platform is then applied in the context of E-commerce data. Results show that the improved algorithm based on the Flink platform of parallel computing has better stability as well as efficiency in dealing with these large data sets. © 2017 IEEE.\",\"Improved K-Means; parallel computing\",\"Clustering algorithms; Data handling; Electronic commerce; Parallel processing systems; Data clustering; Density distributions; Improved K-Means algorithm; ITS applications; K-means; k-Means algorithm; Kernel density; Parallel processing; Big data\",Conference Paper,,Scopus,2-s2.0-85050295397)\n",
      "(\"Qi X., Yang W., Liu L., Gao R.\",\"8967056000;57203192347;36065177800;57203297589;\",\"Service time minimized virtualized network function placement for big data processing\",2017,\"Proceedings - 2017 Chinese Automation Congress, CAC 2017\",\"2017-January\",,,\"1787\",\"1791\",,,10.1109/CAC.2017.8243057,\"https://www.scopus.com/inward/record.uri?eid=2-s2.0-85050372209&doi=10.1109%2fCAC.2017.8243057&partnerID=40&md5=00a29ebb20b0b4d0275218854945082d\",\"School of Mathematics and Statistics, Xidian University, Xian, Shaanxi, 710071, China; School of Computer Science and Technology, Xidian University, Xian, Shaanxi, 710071, China\",\"Qi, X., School of Mathematics and Statistics, Xidian University, Xian, Shaanxi, 710071, China; Yang, W., School of Mathematics and Statistics, Xidian University, Xian, Shaanxi, 710071, China; Liu, L., School of Computer Science and Technology, Xidian University, Xian, Shaanxi, 710071, China; Gao, R., School of Computer Science and Technology, Xidian University, Xian, Shaanxi, 710071, China\",\"With the rapid growth of data, big data processing imposes unprecedented challenge to existing network infrastructure. Network Function Virtualization (NFV) is the key technology for network transformation. Considering the transmission and processing of big data, how to reduce the service time by deploying virtual network function (VNF) instances is a critical issue in network virtualization. We formulate the deployment of VNF instances problem into a mixed-integer linear programming problem and then propose a relaxation-based algorithm with the purpose of minimum service time and considering load balance accordingly. Experimental results show that compared with existing methods, our proposed method can reduce the total service time. © 2017 IEEE.\",,\"Big data; Data handling; Distributed computer systems; Integer programming; Transfer functions; Virtual reality; Critical issues; Key technologies; Mixed integer linear programming problems; Network functions; Network infrastructure; Network transformation; Relaxation-based algorithms; Virtual networks; Network function virtualization\",Conference Paper,,Scopus,2-s2.0-85050372209)\n",
      "(\"Zeng J., Jia J.\",\"57203039579;57203034354;\",\"The impact of big data on school sports and competitive sports\",2017,\"Proceedings - 2017 Chinese Automation Congress, CAC 2017\",\"2017-January\",,,\"596\",\"599\",,,10.1109/CAC.2017.8242837,\"https://www.scopus.com/inward/record.uri?eid=2-s2.0-85050347857&doi=10.1109%2fCAC.2017.8242837&partnerID=40&md5=5e25defda5c41f19cee8f30871281c3a\",\"College of Physical and Health Education, Miayang Teachers' University, Mianyang, China; People's Armed Forces Department, Zaozhuang, China\",\"Zeng, J., College of Physical and Health Education, Miayang Teachers' University, Mianyang, China; Jia, J., People's Armed Forces Department, Zaozhuang, China\",\"It is said by a famous Chinese entrepreneur Jack Ma that which understands yourself the most is not your own but the computer. It is not difficult to find that the computers will always automatically recommend something for you. How do these things come from? It is the computer system which does the statistical analysis to your Internet habits, sorts out the content you may want to browse, and finally pushes the relevant information to you automatically. Big data is mentioned more and more since 2012. For a time it has become the economic, governmental and academic hot topic, and has been applied in the field of information industry. Meanwhile, it is gradually permeated to the medicine, education, business and some other areas as well as it has made good results in all walks of life. Sports field is no exception. So far, the application of big data in china sports field is still in the initial stage, though it has been used in the various sub-categories to assist the development in sport of foreign countries. Through the access to various literature, this article analyses and sorts out the impact of big data on the field of sports, especially on school sports and competitive sports. It is helpful to use big data on sports services. It also provides a theoretical base for the future use of big data on sports services. © 2017 IEEE.\",\"big data; competitive; school sports\",\"Sports; Chinese entrepreneur; competitive; Competitive sports; Foreign countries; Hot topics; Information industry; School sports; Big data\",Conference Paper,,Scopus,2-s2.0-85050347857)\n",
      "(\"Sahoh B., Choksuriwong A.\",\"57201645578;13808284400;\",\"Smart emergency management based on social big data analytics: Research trends and future directions\",2017,\"ACM International Conference Proceeding Series\",,,,\"1\",\"6\",,,10.1145/3176653.3176657,\"https://www.scopus.com/inward/record.uri?eid=2-s2.0-85045523294&doi=10.1145%2f3176653.3176657&partnerID=40&md5=cba499eb080c87316c41cc7a91621613\",\"Department of Computer Engineering, Faculty of Engineering, Prince of Songkla University, Songkhla, Thailand\",\"Sahoh, B., Department of Computer Engineering, Faculty of Engineering, Prince of Songkla University, Songkhla, Thailand; Choksuriwong, A., Department of Computer Engineering, Faculty of Engineering, Prince of Songkla University, Songkhla, Thailand\",\"Emergency management needs to be self-operating and utilize an autonomous processing framework to discover knowledge from various data sources. The aim of Smart Emergency Management (SEM) is to help Executive Management Teams (EMTs) make better decisions and deal with drastic events effectively; SEM needs reliable, accurate, and timely information and knowledge. The exponential growth of social networks, cloud computing, and the Internet of Things means that during emergency events human can share, reuse, and generate vast amounts of data through the application of Social Big Data (SBD). Currently, research tends to focus on the usage of SBD as a knowledge source in SEM, in particular, as a real-time data source for tracking disaster situations in order to manage them more effectively. This paper discusses potential research areas for state-of-the-art SBD analytics in support of SEM, examining fundamental frameworks, methodologies, and technologies for SEM; future trends for SEM using SBD analytics are also considered. © 2017 Association for Computing Machinery.\",\"Bayesian deep learning; Machine learning; Smart emergency management; Social big data analytics\",\"Civil defense; Deep learning; Disasters; Distributed computer systems; Human resource management; Learning systems; Risk management; Social sciences computing; Bayesian; Big Data Analytics; Disaster situations; Emergency management; Executive management; Exponential growth; Knowledge sources; Potential researches; Big data\",Conference Paper,,Scopus,2-s2.0-85045523294)\n",
      "(\"Li J., Song W., Fong S.\",\"57196160147;13403991000;7102256353;\",\"Real-time analysis and visualization for big data of energy consumption\",2017,\"ACM International Conference Proceeding Series\",,,,\"13\",\"16\",,,10.1145/3178212.3178229,\"https://www.scopus.com/inward/record.uri?eid=2-s2.0-85045888095&doi=10.1145%2f3178212.3178229&partnerID=40&md5=ffcf40d45a1e10b77baf78f697392014\",\"Department of Digital Media Technology, North China University of Technology, Beijing, China; Department of Computer and Information Science, University of Macau, Taipa, Macau\",\"Li, J., Department of Digital Media Technology, North China University of Technology, Beijing, China, Department of Computer and Information Science, University of Macau, Taipa, Macau; Song, W., Department of Digital Media Technology, North China University of Technology, Beijing, China; Fong, S., Department of Computer and Information Science, University of Macau, Taipa, Macau\",\"This paper proposes a research on real-time analysis and visualization for big data of energy consumption. In this research, we access real-time energy consumption data from cloud storage by a Transmission Control Protocol/Internet Protocol (TCP/IP). In order to optimize K-Means clustering algorithm, we implement CUDA C programming to finish data-intensive calculation in the Graphic Processing Unit (GPU), which enhances the efficiency of analysis for big data of energy consumption. Meanwhile, to realize data visualization, we draw the data mining results in a multidimensional plane utilizing DirectX, which is a standard graphics API. We also render the original energy consumption data directly in the form of four-dimensional geometry with the plane together, so as to obtain more useful information intuitively. © 2017 Association for Computing Machinery.\",\"Big data; CUDA; DirectX; Energy consumption; K-Means\",\"C (programming language); Clustering algorithms; Data mining; Data visualization; Digital storage; Electronic commerce; Energy utilization; Graphics processing unit; Green computing; Transmission control protocol; Visualization; CUDA; DirectX; Energy consumption datum; Graphic processing unit(GPU); K-means; K-Means clustering algorithm; Real time analysis; Transmission control protocol/internet protocols; Big data\",Conference Paper,,Scopus,2-s2.0-85045888095)\n",
      "(\"Chihoub H., Collet C.\",\"55514076400;7006270539;\",\"IBig Hybrid Architecture for Energy IoT: When the Power of Indexing Meets Big Data Processing!\",2017,\"Proceedings of the International Conference on Cloud Computing Technology and Science, CloudCom\",\"2017-December\",,,\"280\",\"287\",,,10.1109/CloudCom.2017.38,\"https://www.scopus.com/inward/record.uri?eid=2-s2.0-85044299907&doi=10.1109%2fCloudCom.2017.38&partnerID=40&md5=7d2f35ab1c18cb1fc53b52a7d9bffd5e\",\"Univ. Grenoble Alpes, CNRS, Grenoble INP, Enedis LIG, Grenoble, F-38000, France\",\"Chihoub, H., Univ. Grenoble Alpes, CNRS, Grenoble INP, Enedis LIG, Grenoble, F-38000, France; Collet, C., Univ. Grenoble Alpes, CNRS, Grenoble INP, Enedis LIG, Grenoble, F-38000, France\",\"Nowadays, IoT data come from multiple sources from a large number of devices. To manage them, IoT frameworks rely on Big Data ecosystems hosted in the cloud to provide scalable storage systems and to achieve scalable processing. Although these ecosystems scale well to process large sizes of data, in many cases this is done naively. Many datasets, such as IoT Energy measurement data, consist, even partially, of attributes that can be indexed to avoid unnecessary and costly data scan at these scales. In this work, we propose the iBig architecture thatprovides secondary indexing to Big Data processing for energy IoT datasets. Indexes are considered as metadata stored in a separate component integrated in the ecosystem. Subsequently, MapReduce-based and MPP (massively parallel processing)-based processing leverage indexing to handle only relevant data in a given dataset. Our experimental evaluation on the Grid5000 cloud testbed demonstrates that performance gains can exceed 98% for the MapReduce-based Spark and 81% for the MPP-based Drill for Energy IoT Data. Furthermore, we provide comparison insights about the Spark and Drill frameworks when processing the whole dataset or only with relevant data. © 2017 IEEE.\",\"Big Data; Drill; Indexing; IoT Data; MapReduce; MPP; Processing; Spark\",\"Cloud computing; Computer architecture; Data handling; Digital storage; Drilling; Drills; Ecology; Ecosystems; Electric sparks; Indexing (materials working); Indexing (of information); Information management; Internet of things; Processing; Experimental evaluation; Hybrid architectures; IoT Data; Map-reduce; Massively parallel processing; Multiple source; Performance Gain; Scalable storage systems; Big data\",Conference Paper,,Scopus,2-s2.0-85044299907)\n",
      "(\"Li X., Tu Z., Jia Q., Man X., Wang H., Zhang X.\",\"57192490838;57203037201;57203043158;57203042151;57203041207;57203043640;\",\"Deep-level quality management based on big data analytics with case study\",2017,\"Proceedings - 2017 Chinese Automation Congress, CAC 2017\",\"2017-January\",,,\"4921\",\"4926\",,,10.1109/CAC.2017.8243651,\"https://www.scopus.com/inward/record.uri?eid=2-s2.0-85050364128&doi=10.1109%2fCAC.2017.8243651&partnerID=40&md5=0c28e7cef1e48163d29de7c9dbf0df8d\",\"School of Control Science and Engineering, Shandong University, Jinan, China; Dept. of Manufacturing Engineering, Weichai Power Co., Ltd., Weifang, China\",\"Li, X., School of Control Science and Engineering, Shandong University, Jinan, China; Tu, Z., School of Control Science and Engineering, Shandong University, Jinan, China; Jia, Q., School of Control Science and Engineering, Shandong University, Jinan, China; Man, X., Dept. of Manufacturing Engineering, Weichai Power Co., Ltd., Weifang, China; Wang, H., Dept. of Manufacturing Engineering, Weichai Power Co., Ltd., Weifang, China; Zhang, X., Dept. of Manufacturing Engineering, Weichai Power Co., Ltd., Weifang, China\",\"The Big data analytics gives new chances to the enterprises to enhance their management and manufacturing levels. A solution with case study is proposed to accomplish deep-level quality management based on big data analytics. First, the implementation of big data analytics based on industrial process data is illustrated with case study illustration. Through the analysis and feature extraction of off-line data, the corresponding reference model library is constructed, which can be used for real-time processing of unlabeled data in the industrial field. The cluster, outlier and other data indicators we can get from the calculation and analysis would have a certain guiding significance for the enterprise's deep-level quality management. Then, the distributed memory computing engine based on Spark, and the implementation of web application platform based on Spring MVC framework is also described. This can help to get higher performance and unrestricted abilities for data analytics. Meanwhile, good visibility and human-data interface can be achieved. © 2017 IEEE.\",\"Big data analytics; feature extraction; Spark; Spring MVC\",\"Data handling; Data mining; Electric sparks; Extraction; Feature extraction; Quality control; Quality management; Big Data Analytics; Computing engines; Distributed Memory; Guiding significances; Industrial fields; Industrial processs; Realtime processing; Reference modeling; Big data\",Conference Paper,,Scopus,2-s2.0-85050364128)\n",
      "(\"Cao L., Zhu F., Dong X., Shen Z., Yu J., Hu B., Xiong G.\",\"57191250405;55112010800;7401797236;55318850600;57203043255;56438541700;55733323100;\",\"Big data platform & typical APP services for urban public transportation\",2017,\"Proceedings - 2017 Chinese Automation Congress, CAC 2017\",\"2017-January\",,,\"7565\",\"7570\",,,10.1109/CAC.2017.8244147,\"https://www.scopus.com/inward/record.uri?eid=2-s2.0-85050347561&doi=10.1109%2fCAC.2017.8244147&partnerID=40&md5=9c9d6515a76fdffd779cbb40b6eff137\",\"University of Chinese Academy of Sciences, Beijing, China; Beijing Engineering Research Center of Intelligent Systems and Technology, Institute of Automation, Chinese Academy of Sciences, Beijing, China; Qingdao Academy of Intelligent Industries, Qingdao, China; State Key Laboratory of Management and Control for Complex Systems, Institute of Automation, Chinese Academy of Sciences, Beijing, China; Guangzhou Communication Information Construction Investment and Operation Co. Ltd, Guangzhou, China; Cloud Computing Center, Chinese Academy of Sciences, Dongguan, China\",\"Cao, L., University of Chinese Academy of Sciences, Beijing, China; Zhu, F., Beijing Engineering Research Center of Intelligent Systems and Technology, Institute of Automation, Chinese Academy of Sciences, Beijing, China; Dong, X., Qingdao Academy of Intelligent Industries, Qingdao, China; Shen, Z., State Key Laboratory of Management and Control for Complex Systems, Institute of Automation, Chinese Academy of Sciences, Beijing, China; Yu, J., Guangzhou Communication Information Construction Investment and Operation Co. Ltd, Guangzhou, China; Hu, B., Cloud Computing Center, Chinese Academy of Sciences, Dongguan, China; Xiong, G., Cloud Computing Center, Chinese Academy of Sciences, Dongguan, China\",\"Along with more and more people and cars appear in cities, the stricter requirements, like traffic efficiency, safety, service and cleanness cannot be met easily by using the existing urban traffic plan and operation management methods, which are normally supported by the separated and partial Intelligent Transportation System (ITS). In this paper, big data platform for urban public transportation is proposed, and its architecture and subsystems are developed. Then, Guangzhou's typical APP services for urban public transportation are described in detail, including: Real-time bus service, taxi inquiry and call service, mobile payment, and traffic information service, etc. © 2017 IEEE.\",\"APP Services; Big Data Platform; Urban Public Transportation\",\"Big data; Bus transportation; Information services; Intelligent systems; Intelligent vehicle highway systems; Mass transportation; Taxicabs; Traffic control; Big data platforms; Intelligent transportation systems; ITS architecture; Mobile payment; Operation management; Traffic efficiency; Traffic information service; Urban public transportations; Urban transportation\",Conference Paper,,Scopus,2-s2.0-85050347561)\n",
      "(\"Sixin X., Yayuan Y., Jiang Y.J., Yue W.\",\"57201728696;57201721161;57201730161;57201720517;\",\"A New Governance Architecture for Government Information Resources Based on Big Data Ecological Environment in China\",2017,\"Proceedings - 2017 IEEE International Symposium on Multimedia, ISM 2017\",\"2017-January\",,,\"524\",\"530\",,,10.1109/ISM.2017.103,\"https://www.scopus.com/inward/record.uri?eid=2-s2.0-85045925287&doi=10.1109%2fISM.2017.103&partnerID=40&md5=eee836dabeb2755a444c5beb64c22e66\",\"Archives of Tsinghua University, Beijing, China; College of Global Public Health, New York University, Global Health class of 2019, United States; Research Institute of Information Technology, Tsinghua University, Beijing, China; School of Information Resource Management, Renmin University of China, Beijing, China\",\"Sixin, X., Archives of Tsinghua University, Beijing, China; Yayuan, Y., College of Global Public Health, New York University, Global Health class of 2019, United States; Jiang, Y.J., Research Institute of Information Technology, Tsinghua University, Beijing, China; Yue, W., School of Information Resource Management, Renmin University of China, Beijing, China\",\"In this paper, the characteristics and effects of the data-open, function-reform and data-governance in the process of dealing with the challenges brought by the age of big data, were analyzed firstly. In China, these action plans adopted by governments have brought new changes in government functions restructuring, leading to a new pattern of government information resources management. Secondly, the two typical models of Chinese government information resources management, which came out with IT involving and E-government system getting more involved, were summarized. As well as the application features and scenarios of these two models were compared. Finally, according to the trend of Big-Data Bureau widely established in China, Heterogeneous business system formed and massive data generated in various formats, a new pattern of government information resources governance will emerge, that is, big data service centers and intelligent archives will become the basements for storage, accessing, utilization and long-term preservation of government data resources. The value of big data service center is to provide broad and intelligence information service. The Intelligence Archive will provide professional archives management for society leaving tracks, evidence persistency, and national memory. In this new patter, three aspects of the problem need to focus on solving by adopting various key technologies based on the 'ABC' Ecological System. The First is the rational allocation of functions between the Big-Data Bureau and Intelligent archives; the second is to capture the valuable data automatically from E-government system using intelligent sensor technology; the third is the implementation of resources automatic archiving, that is, data migrating from e-government business systems to the large data centers and an intelligent archive by using intelligent artificial and machine learning technologies. © 2017 IEEE.\",\"artificial intelligent; big data; cloud computing; governance architecture; government information resources; ICT ecological environment\",\"Artificial intelligence; Big data; Cloud computing; Digital storage; Ecology; Engineering education; Government data processing; Information retrieval; Information services; Learning systems; Management information systems; Rational functions; Artificial intelligent; E-government systems; Ecological environments; Governance architectures; Government information; Intelligent archives; Long-term preservation; Machine learning technology; Information management\",Conference Paper,,Scopus,2-s2.0-85045925287)\n"
     ]
    }
   ],
   "source": [
    "%%pig\n",
    "sin_cabeceras = Filter files BY NOT SUBSTRING(line,0,7) MATCHES 'Authors';\n",
    "temp = limit sin_cabeceras 10;\n",
    "dump temp;"
   ]
  },
  {
   "cell_type": "markdown",
   "metadata": {},
   "source": [
    "### FORMAS EQUIVALENTES\n",
    "`cabeceras = filter by substring(line,0,7) != 'Authors';`"
   ]
  },
  {
   "cell_type": "markdown",
   "metadata": {},
   "source": [
    "## Sugerencia:\n",
    "Usar CSVEstorage"
   ]
  },
  {
   "cell_type": "code",
   "execution_count": 5,
   "metadata": {},
   "outputs": [
    {
     "name": "stdout",
     "output_type": "stream",
     "text": [
      "\n",
      " using org.apache.pig.piggybank.storage.CSVExcelStorage(',');/files/*csv' \n",
      " para ver los autoresgenerate $18; --$17 para ver las palabras claves, $0 \n",
      "temp = limit temp 10;\n",
      "dump temp;\n",
      "(Index Keywords)\n",
      "(Analysis solution; Big datum; Distributed systems; opinion; Performance decay; Storage/retrieval; Structured approach; Unstructured documents; Communication; Information retrieval; Scalability; Reliability analysis)\n",
      "(Application scenario; Benchmark suites; Big datum; Component based; Performance; Performance metrics; Security; Energy conservation; Engineering education; Fault tolerance; Scalability; Benchmarking)\n",
      "(Effective algorithms; High dimensionality; Multi objective; Multi-objective problem; Paper analysis; Real-world; Searching techniques; Swarm Intelligence; Engineering education; Artificial intelligence)\n",
      "(Big data applications; Data-intensive application; Improving performance; Memory bloats; Object-oriented design; Object-oriented programming languages; Performance degradation; Real-world experience; Data processing; Design; Object oriented programming; Java programming language)\n",
      "(Improving power; Operation planning; Power system applications; Power system operations; Real time monitoring; Systematic integration; Typical application; Utility industry; Electric power distribution; Feature extraction; Optimization; System theory)\n",
      "(Aircraft design process; Business trend; Coordinated actions; Development costs; Information technology industry; Integrated vehicle health managements; Strategic values; Traffic conditions; Exhibitions; Information management; Information technology; Vehicles)\n",
      "(Big datum; Data systems; Industry applications; Computer science; Data reduction; Industrial applications; Information science; Research)\n",
      "(Apriori; Association analysis; Big datum; FP growths; Map-reduce; Algorithms; Data mining; Scalability; Software engineering)\n",
      "(Computer assisted; Creative thinking; Explosive growth; Extension data minings; Intelligent extensions; Programming software; Technical support; Theory and methods; Artificial intelligence; Data mining; Innovation; Research)\n"
     ]
    }
   ],
   "source": [
    "%%pig\n",
    "\n",
    "files = load '/mnt/e/Notas de clase/apache-hive-course-master/files/*csv' using org.apache.pig.piggybank.storage.CSVExcelStorage(',');\n",
    "temp = foreach files generate $18; --$17 para ver las palabras claves, $0 para ver los autores\n",
    "temp = limit temp 10;\n",
    "dump temp;"
   ]
  },
  {
   "cell_type": "markdown",
   "metadata": {},
   "source": [
    "* Concatenar los registros de la columna de keywords e index Keywords y separarlos en vectores"
   ]
  },
  {
   "cell_type": "raw",
   "metadata": {},
   "source": [
    "%%pig\n",
    "\n",
    "keywords = foreach files generate CONCAT($17,';',$18);\n",
    "keywords = foreach keywords generate STRSPLIT($0,';',-1);\n",
    "keywords = foreach keywords generate flatten($0) as lin;\n",
    "--keywords = flatten(keywords);\n",
    "groups = GROUP keywords by lin\n",
    "counts = foreach groups generate (group, COUNT(keywords))\n",
    "\n",
    "temp = limit keywords 10;\n",
    "DUMP temp;"
   ]
  },
  {
   "cell_type": "code",
   "execution_count": 6,
   "metadata": {},
   "outputs": [
    {
     "name": "stdout",
     "output_type": "stream",
     "text": [
      " USING org.apache.pig.piggybank.storage.CSVExcelStorage(',');/files/*csv' \n",
      "\n",
      "--files = LIMIT files 3;\n",
      "\n",
      "-- Separa las palabras claves del autor\n",
      "keywords = foreach files generate CONCAT($17, ';', $18);\n",
      "\n",
      "keywords = foreach keywords generate FLATTEN(TOKENIZE($0, ';'));\n",
      "keywords = foreach keywords generate TRIM(LOWER($0));\n",
      "keywords = FILTER keywords BY  NOT $0 matches 'Author Keywords';\n",
      "keywords = FILTER keywords BY  NOT $0 matches 'Index Keywords';\n",
      "\n",
      "-- keywords = FILTER keywords BY  SIZE($0) == 0;\n",
      "\n",
      "grouped = GROUP keywords BY $0;\n",
      "wordcount = FOREACH grouped GENERATE group, COUNT(keywords);\n",
      "wordcount = ORDER wordcount by $1 desc;\n",
      "s = LIMIT wordcount 25;\n",
      "\n",
      "dump s;\n",
      "(big data,14633)\n",
      "(data mining,2487)\n",
      "(data handling,1949)\n",
      "(cloud computing,1419)\n",
      "(digital storage,1314)\n",
      "(information management,1191)\n",
      "(hadoop,1126)\n",
      "(data analytics,929)\n",
      "(artificial intelligence,886)\n",
      "(big data analytics,785)\n",
      "(learning systems,750)\n",
      "(decision making,680)\n",
      "(distributed computer systems,651)\n",
      "(internet of things,648)\n",
      "(human,639)\n",
      "(map-reduce,631)\n",
      "(information analysis,593)\n",
      "(big data applications,536)\n",
      "(algorithms,521)\n",
      "(big datum,519)\n",
      "(machine learning,490)\n",
      "(mapreduce,490)\n",
      "(article,487)\n",
      "(internet,462)\n",
      "(social networking (online),456)\n",
      "\n",
      "\n",
      "-- keywords = foreach keywords generate STRSPLIT($0, ';', -1);\n",
      "-- keywords = foreach keywords generate FLATTEN(*);\n",
      "-- keywords = foreach keywords generate flatten();\n",
      "\n",
      "\n",
      "--temp = LIMIT s 20;\n",
      "--dump temp;\n",
      "\n",
      "STORE wordcount INTO 'output/' USING PigStorage(',');\n"
     ]
    }
   ],
   "source": [
    "%%pig\n",
    "files = load '/mnt/e/Notas de clase/apache-hive-course-master/files/*csv' USING org.apache.pig.piggybank.storage.CSVExcelStorage(',');\n",
    "\n",
    "--files = LIMIT files 3;\n",
    "\n",
    "-- Separa las palabras claves del autor\n",
    "keywords = foreach files generate CONCAT($17, ';', $18);\n",
    "\n",
    "keywords = foreach keywords generate FLATTEN(TOKENIZE($0, ';'));\n",
    "keywords = foreach keywords generate TRIM(LOWER($0));\n",
    "keywords = FILTER keywords BY  NOT $0 matches 'Author Keywords';\n",
    "keywords = FILTER keywords BY  NOT $0 matches 'Index Keywords';\n",
    "\n",
    "-- keywords = FILTER keywords BY  SIZE($0) == 0;\n",
    "\n",
    "grouped = GROUP keywords BY $0;\n",
    "wordcount = FOREACH grouped GENERATE group, COUNT(keywords);\n",
    "wordcount = ORDER wordcount by $1 desc;\n",
    "s = LIMIT wordcount 25;\n",
    "\n",
    "dump s;\n",
    "\n",
    "\n",
    "-- keywords = foreach keywords generate STRSPLIT($0, ';', -1);\n",
    "-- keywords = foreach keywords generate FLATTEN(*);\n",
    "-- keywords = foreach keywords generate flatten();\n",
    "\n",
    "\n",
    "--temp = LIMIT s 20;\n",
    "--dump temp;\n",
    "\n",
    "STORE wordcount INTO 'output/' USING PigStorage(',');\n"
   ]
  },
  {
   "cell_type": "code",
   "execution_count": 16,
   "metadata": {},
   "outputs": [],
   "source": [
    "lines = open('output/part-r-00000', 'r').read()\n",
    "lines = lines.split('\\n')\n",
    "lines = lines[:-1]\n",
    "lines = [row.split(',') for row in lines]\n",
    "keywords = [row[0] for row in lines]\n",
    "values = [int(row[-1]) for row in lines]\n",
    "keywords = keywords[:25]\n",
    "values = values[:25]"
   ]
  },
  {
   "cell_type": "code",
   "execution_count": 17,
   "metadata": {},
   "outputs": [
    {
     "data": {
      "image/png": "[encoded data removed]",
      "text/plain": [
       "<Figure size 432x288 with 1 Axes>"
      ]
     },
     "metadata": {},
     "output_type": "display_data"
    }
   ],
   "source": [
    "import matplotlib.pyplot as plt\n",
    "keywords.reverse()\n",
    "values.reverse()\n",
    "plt.barh(keywords, values)\n",
    "#plt.show()\n",
    "plt.savefig('keywords.jpg')"
   ]
  },
  {
   "cell_type": "code",
   "execution_count": 18,
   "metadata": {},
   "outputs": [
    {
     "name": "stdout",
     "output_type": "stream",
     "text": [
      "Overwriting keywords.html\n"
     ]
    }
   ],
   "source": [
    "%%writefile keywords.html\n",
    "<!DOCTYPE html>\n",
    "<html>\n",
    "<head>\n",
    "<title>Frecuencia de palabras clave</title>\n",
    "</head>\n",
    "<body>\n",
    "\n",
    "<h1>Frecuencia de palabras clave desde Pig</h1>\n",
    "\n",
    "<img src=\"keywords.jpg\" alt=\"Sin(x)\">\n",
    "\n",
    "</body>\n",
    "</html>\n"
   ]
  },
  {
   "cell_type": "code",
   "execution_count": null,
   "metadata": {},
   "outputs": [],
   "source": []
  }
 ],
 "metadata": {
  "kernelspec": {
   "display_name": "Python 3",
   "language": "python",
   "name": "python3"
  },
  "language_info": {
   "codemirror_mode": {
    "name": "ipython",
    "version": 3
   },
   "file_extension": ".py",
   "mimetype": "text/x-python",
   "name": "python",
   "nbconvert_exporter": "python",
   "pygments_lexer": "ipython3",
   "version": "3.6.5"
  }
 },
 "nbformat": 4,
 "nbformat_minor": 2
}
