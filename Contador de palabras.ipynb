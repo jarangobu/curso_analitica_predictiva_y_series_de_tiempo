{
 "cells": [
  {
   "cell_type": "markdown",
   "metadata": {},
   "source": [
    "# Contador de palabras claves hecho con trabajos Map/Reduce\n",
    "* Escribir los scripts de Mapper y de Reducer"
   ]
  },
  {
   "cell_type": "code",
   "execution_count": 139,
   "metadata": {},
   "outputs": [
    {
     "name": "stdout",
     "output_type": "stream",
     "text": [
      "Overwriting mapper.py\n"
     ]
    }
   ],
   "source": [
    "%%writefile mapper.py\n",
    "#! /usr/bin/env python\n",
    "\n",
    "import sys, re\n",
    "import pandas as pd\n",
    "\n",
    "if __name__ == \"__main__\": \n",
    "    \n",
    "    for line in sys.stdin:\n",
    "        line = re.findall(r'\\s*\"((?:[^\"]*(?:\"\")?)+)\",?|\\s*([^,]*),?',line)\n",
    "        line = [\"\".join(i) for i in line[:-1]]\n",
    "        line = \";\".join([line[17], line[18]])\n",
    "        sys.stdout.write(\"{}\\t1\\n\".format(line))\n",
    "        "
   ]
  },
  {
   "cell_type": "code",
   "execution_count": null,
   "metadata": {},
   "outputs": [],
   "source": [
    "%%writefile mapper.py\n",
    "#! /usr/bin/env python\n",
    "\n",
    "import sys, re\n",
    "\n",
    "\n",
    "def spliter(line):\n",
    "    word_init = 0\n",
    "    word_len = 0\n",
    "    is_quote = False\n",
    "    result = []\n",
    "    pos = 0\n",
    "    \n",
    "    while pos < len(line):\n",
    "        \n",
    "        while line[pos] == ' ':\n",
    "            pos += 1\n",
    "            word_init += 1\n",
    "        \n",
    "        if line[pos] == '\"':\n",
    "            pos += 1\n",
    "            while line[pos] != '\"':\n",
    "                pos += 1\n",
    "            pos += 1\n",
    "            word_len = pos - word_init\n",
    "            word = line[word_init+1:word_init+word_len-1]\n",
    "            result.append(word)\n",
    "            word_init = word_init + word_len + 1\n",
    "            pos += 1\n",
    "        \n",
    "        else:\n",
    "            while pos < len(line) and line[pos] != ',':\n",
    "                pos += 1\n",
    "\n",
    "            word_len = pos - word_init\n",
    "            word = line[word_init:word_init+word_len]\n",
    "            result.append(word)\n",
    "            word_init = word_init + word_len + 1\n",
    "            pos += 1\n",
    "        \n",
    "        \n",
    "    return result.copy()\n",
    "\n",
    "if __name__ == \"__main__\": \n",
    "    \n",
    "    for line in sys.stdin:\n",
    "        if line[0:7] != 'Authors':\n",
    "            line = spliter(line)\n",
    "\n",
    "            sys.stdout.write(\"{}\\t1\\n\".format(line))\n",
    "            "
   ]
  },
  {
   "cell_type": "markdown",
   "metadata": {},
   "source": [
    "---\n",
    "## Ayudas para desarrollo"
   ]
  },
  {
   "cell_type": "code",
   "execution_count": 140,
   "metadata": {},
   "outputs": [
    {
     "name": "stdout",
     "output_type": "stream",
     "text": [
      "\"Vancea B., Marchis A., Dinsoreanu M., Potolea R.\",\"55975772100;57190179697;24474001700;23390581200;\",\"Contradiction detection between opinions: From a big data perspective\",2013,\"Proceedings - 2013 IEEE 9th International Conference on Intelligent Computer Communication and Processing, ICCP 2013\",,, 6646118,\"259\",\"266\",,,10.1109/ICCP.2013.6646118,\"https://www.scopus.com/inward/record.uri?eid=2-s2.0-84891076779&doi=10.1109%2fICCP.2013.6646118&partnerID=40&md5=66c750dbc77983dd145ff352e1a6aaea\",\"Department of Computer Science, Technical University of Cluj-Napoca, Cluj-Napoca, Romania\",\"Vancea, B., Department of Computer Science, Technical University of Cluj-Napoca, Cluj-Napoca, Romania; Marchis, A., Department of Computer Science, Technical University of Cluj-Napoca, Cluj-Napoca, Romania; Dinsoreanu, M., Department of Computer Science, Technical University of Cluj-Napoca, Cluj-Napoca, Romania; Potolea, R., Department of Computer Science, Technical University of Cluj-Napoca, Cluj-Napoca, Romania\",\"This paper offers a solution to the problem of detecting contradictions among opinions on the same topic. The opinions are extracted from a large number of unstructured documents and stored in a structured format. Due to the increase in data available for analysis, we focus on providing a storage/retrieval and analysis solution suitable for managing large quantities of data while maintaining the speed and reliability present in smaller scale systems. Our approach consists in building a distributed system able to scale horizontally with the increase in input data without any significant performance decay. We represent opinions in a tuple based structured model, more suitable for retrieval and analysis. This approach allows us to formalize an algorithm for detecting contradictions between opinion tuples. Furthermore, we present a method for improving the recall of the system by using synonyms for the opinion target to expand the set of possible contradicting opinions. Our main focus is to optimize the structure of the opinion tuple to provide the best retrieval time and to allow for a simple, structured approach for detecting contradictions. © 2013 IEEE.\",\"big data; contradiction detection; information retrieval; opinion; scalability\",\"Analysis solution; Big datum; Distributed systems; opinion; Performance decay; Storage/retrieval; Structured approach; Unstructured documents; Communication; Information retrieval; Scalability; Reliability analysis\",Conference Paper,,Scopus,2-s2.0-84891076779\n"
     ]
    },
    {
     "data": {
      "text/plain": [
       "[('Vancea B., Marchis A., Dinsoreanu M., Potolea R.', ''),\n",
       " ('55975772100;57190179697;24474001700;23390581200;', ''),\n",
       " ('Contradiction detection between opinions: From a big data perspective', ''),\n",
       " ('', '2013'),\n",
       " ('Proceedings - 2013 IEEE 9th International Conference on Intelligent Computer Communication and Processing, ICCP 2013',\n",
       "  ''),\n",
       " ('', ''),\n",
       " ('', ''),\n",
       " ('', '6646118'),\n",
       " ('259', ''),\n",
       " ('266', ''),\n",
       " ('', ''),\n",
       " ('', ''),\n",
       " ('', '10.1109/ICCP.2013.6646118'),\n",
       " ('https://www.scopus.com/inward/record.uri?eid=2-s2.0-84891076779&doi=10.1109%2fICCP.2013.6646118&partnerID=40&md5=66c750dbc77983dd145ff352e1a6aaea',\n",
       "  ''),\n",
       " ('Department of Computer Science, Technical University of Cluj-Napoca, Cluj-Napoca, Romania',\n",
       "  ''),\n",
       " ('Vancea, B., Department of Computer Science, Technical University of Cluj-Napoca, Cluj-Napoca, Romania; Marchis, A., Department of Computer Science, Technical University of Cluj-Napoca, Cluj-Napoca, Romania; Dinsoreanu, M., Department of Computer Science, Technical University of Cluj-Napoca, Cluj-Napoca, Romania; Potolea, R., Department of Computer Science, Technical University of Cluj-Napoca, Cluj-Napoca, Romania',\n",
       "  ''),\n",
       " ('This paper offers a solution to the problem of detecting contradictions among opinions on the same topic. The opinions are extracted from a large number of unstructured documents and stored in a structured format. Due to the increase in data available for analysis, we focus on providing a storage/retrieval and analysis solution suitable for managing large quantities of data while maintaining the speed and reliability present in smaller scale systems. Our approach consists in building a distributed system able to scale horizontally with the increase in input data without any significant performance decay. We represent opinions in a tuple based structured model, more suitable for retrieval and analysis. This approach allows us to formalize an algorithm for detecting contradictions between opinion tuples. Furthermore, we present a method for improving the recall of the system by using synonyms for the opinion target to expand the set of possible contradicting opinions. Our main focus is to optimize the structure of the opinion tuple to provide the best retrieval time and to allow for a simple, structured approach for detecting contradictions. © 2013 IEEE.',\n",
       "  ''),\n",
       " ('big data; contradiction detection; information retrieval; opinion; scalability',\n",
       "  ''),\n",
       " ('Analysis solution; Big datum; Distributed systems; opinion; Performance decay; Storage/retrieval; Structured approach; Unstructured documents; Communication; Information retrieval; Scalability; Reliability analysis',\n",
       "  ''),\n",
       " ('', 'Conference Paper'),\n",
       " ('', ''),\n",
       " ('', 'Scopus'),\n",
       " ('', '2-s2.0-84891076779'),\n",
       " ('', '')]"
      ]
     },
     "execution_count": 140,
     "metadata": {},
     "output_type": "execute_result"
    }
   ],
   "source": [
    "# Cargar una linea para ayudar en el desarrollo\n",
    "line = !cat files/scopus-2000-2013-cp.csv | head -n2 | tail +2\n",
    "line = line[0]\n",
    "print(line)\n",
    "\n",
    "# Probar forma de separar los campos\n",
    "import re\n",
    "line = re.findall(r'\\s*\"((?:[^\"]*(?:\"\")?)+)\",?|\\s*([^,]*),?',line)\n",
    "    \n",
    "line #= [\"\".join(i) for i in line[:-1]]\n",
    "#line"
   ]
  },
  {
   "cell_type": "code",
   "execution_count": 142,
   "metadata": {
    "scrolled": false
   },
   "outputs": [
    {
     "name": "stdout",
     "output_type": "stream",
     "text": [
      "files/scopus-2014-ar.csv: 178, 24\n",
      "\"Chun B.-T., Lee S.-H.\",\"55165858300;37056941200;\",\"A study on big data processing mechanism & applicability\",2014,\"International Journal of Software Engineering and its Applications\",\"8\",\"8\",,\"73\",\"82\",,6,10.14257/ijseia.2014.8.8,08,\"https://www.scopus.com/inward/record.uri?eid=2-s2.0-84906848665&doi=10.14257%2fijseia.2014.8.8%2c08&partnerID=40&md5=76d53faeedb6f835d8db9db5f8a61e38\",\"Computer System Institute, Hankyong National University, 327, Chungang-no, Anseong-si, Kyonggi-do, South Korea; Division of Information and Communication, Baekseok University, 115, Anseo-dong, Cheonan, Choongnam, South Korea\",\"Chun, B.-T., Computer System Institute, Hankyong National University, 327, Chungang-no, Anseong-si, Kyonggi-do, South Korea; Lee, S.-H., Division of Information and Communication, Baekseok University, 115, Anseo-dong, Cheonan, Choongnam, South Korea\",\"The technologies related with information communication regions are progressing continuously. Our society has two prospective properties because of IT technology. Firstly, it is accelerated a degree of convergence. And convergence regions are expanded. The efforts to convergence will be continued. Because of these properties, various device types are appeared in our life such as smart phone, tablet PC, game machine. Through these many devices, various data types are produced. In this paper, we described applicability of Big Data. And we analyzed Big Data process model. © 2014 SERSC.\",\"Applicability; Big data; Convergence; Hadoop\",,Article,,Scopus,2-s2.0-84906848665\n",
      "\n",
      "['Chun B.-T., Lee S.-H.', '55165858300;37056941200;', 'A study on big data processing mechanism & applicability', '2014', 'International Journal of Software Engineering and its Applications', '8', '8', '', '73', '82', '', '6', '10.14257/ijseia.2014.8.8', '08', 'https://www.scopus.com/inward/record.uri?eid=2-s2.0-84906848665&doi=10.14257%2fijseia.2014.8.8%2c08&partnerID=40&md5=76d53faeedb6f835d8db9db5f8a61e38', 'Computer System Institute, Hankyong National University, 327, Chungang-no, Anseong-si, Kyonggi-do, South Korea; Division of Information and Communication, Baekseok University, 115, Anseo-dong, Cheonan, Choongnam, South Korea', 'Chun, B.-T., Computer System Institute, Hankyong National University, 327, Chungang-no, Anseong-si, Kyonggi-do, South Korea; Lee, S.-H., Division of Information and Communication, Baekseok University, 115, Anseo-dong, Cheonan, Choongnam, South Korea', 'The technologies related with information communication regions are progressing continuously. Our society has two prospective properties because of IT technology. Firstly, it is accelerated a degree of convergence. And convergence regions are expanded. The efforts to convergence will be continued. Because of these properties, various device types are appeared in our life such as smart phone, tablet PC, game machine. Through these many devices, various data types are produced. In this paper, we described applicability of Big Data. And we analyzed Big Data process model. © 2014 SERSC.', 'Applicability; Big data; Convergence; Hadoop', '', 'Article', '', 'Scopus', '2-s2.0-84906848665\\n']\n"
     ]
    }
   ],
   "source": [
    "# Verificar cuales son las lineas que no funcionan\n",
    "x = !ls files/*.csv\n",
    "for i in x:\n",
    "    with open(i) as txt:\n",
    "        for j, line in enumerate(txt.readlines()):\n",
    "            l = re.findall(r'\\s*\\\"((?:[^\\\"]*(?:\\\"\\\")?)+)\\\",?|\\s*([^,]*),?',line)\n",
    "            l = [\"\".join(i) for i in l[:-1]]\n",
    "            if len(l)!=23:\n",
    "                print('{}: {}, {}'.format(i,j, len(l)))\n",
    "                print(line)\n",
    "                print(l)\n",
    "            "
   ]
  },
  {
   "cell_type": "code",
   "execution_count": 115,
   "metadata": {},
   "outputs": [
    {
     "data": {
      "text/plain": [
       "['\\ufeffAuthors,Author Ids,Title,Year,Source title,Volume,Issue,Art. No.,Page start,Page end,Page count,Cited by,DOI,Link,Affiliations,Authors with affiliations,Abstract,Author Keywords,Index Keywords,Document Type,Access Type,Source,EID']"
      ]
     },
     "execution_count": 115,
     "metadata": {},
     "output_type": "execute_result"
    }
   ],
   "source": [
    "x = !cat files/scopus-2000-2013-cp.csv | head -n1\n",
    "x"
   ]
  }
 ],
 "metadata": {
  "kernelspec": {
   "display_name": "Python 3",
   "language": "python",
   "name": "python3"
  },
  "language_info": {
   "codemirror_mode": {
    "name": "ipython",
    "version": 3
   },
   "file_extension": ".py",
   "mimetype": "text/x-python",
   "name": "python",
   "nbconvert_exporter": "python",
   "pygments_lexer": "ipython3",
   "version": "3.6.5"
  }
 },
 "nbformat": 4,
 "nbformat_minor": 2
}
